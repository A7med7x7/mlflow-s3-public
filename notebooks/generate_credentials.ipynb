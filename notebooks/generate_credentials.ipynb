{
 "cells": [
  {
   "cell_type": "markdown",
   "id": "2abf4927",
   "metadata": {},
   "source": [
    "### Generate Credentials \n",
    "\n",
    "This notebook generates EC2 Credentials for mounting a public object store container from a Chameleon CLoud site. "
   ]
  },
  {
   "cell_type": "code",
   "execution_count": null,
   "id": "bbb0d3e5",
   "metadata": {},
   "outputs": [],
   "source": [
    "#Import required packages\n",
    "from openstack import connection\n",
    "from chi import context\n",
    "import swiftclient\n",
    "import chi, os"
   ]
  },
  {
   "cell_type": "code",
   "execution_count": null,
   "id": "78ac72da",
   "metadata": {},
   "outputs": [],
   "source": [
    "context.choose_project() \n",
    "context.choose_site(default=\"CHI@UC\") # replace with your site "
   ]
  },
  {
   "cell_type": "markdown",
   "id": "ccee01b1",
   "metadata": {},
   "source": [
    "## Authentication for Object Store\n",
    "\n",
    "This step is used to **authenticate JupyterHub with the object store**.  \n",
    "Since our JupyterHub session already has the necessary Chameleon credentials,\n",
    "we don’t type in usernames or passwords here.  \n",
    "\n",
    "The code below simply asks JupyterHub for a valid **token** and the **object store\n",
    "endpoint**, and then uses them to connect with our object store services to create the buckets"
   ]
  },
  {
   "cell_type": "markdown",
   "id": "0e9dff31",
   "metadata": {},
   "source": [
    "## Establish connection with openstack"
   ]
  },
  {
   "cell_type": "code",
   "execution_count": null,
   "id": "4e8e66a4",
   "metadata": {},
   "outputs": [],
   "source": [
    "# Authenticate - getting object store endpoint\n",
    "os_conn = chi.clients.connection()\n",
    "conn = connection.from_config()\n",
    "token = os_conn.authorize()\n",
    "storage_url = os_conn.object_store.get_endpoint()\n",
    "# Connect to Swift (S3-compatible) object store\n",
    "swift_conn = swiftclient.Connection(preauthurl=storage_url,\n",
    "                                    preauthtoken=token,\n",
    "                                    retries=5)"
   ]
  },
  {
   "cell_type": "markdown",
   "id": "cd72e332",
   "metadata": {},
   "source": [
    "### Create EC2 credentials\n",
    "\n",
    "the following script will generate that for us or you can head to create it using the GUI: \n"
   ]
  },
  {
   "cell_type": "code",
   "execution_count": null,
   "id": "5b18f29c",
   "metadata": {},
   "outputs": [],
   "source": [
    "conn = connection.from_config()\n",
    "\n",
    "project_id = conn.current_project_id \n",
    "identity_ep = conn.session.get_endpoint(service_type='identity', interface='public')\n",
    "url = f\"{identity_ep}/v3/users/{conn.current_user_id}/credentials/OS-EC2\"\n",
    "ID = {\"tenant_id\": project_id}\n",
    "\n",
    "resp = conn.session.post(url, json=ID)\n",
    "resp.raise_for_status()\n",
    "ec2 = resp.json()[\"credential\"]\n",
    "\n",
    "print(\"EC2 Access:\", ec2[\"access\"])\n",
    "print(\"EC2 Secret:\", ec2[\"secret\"])"
   ]
  }
 ],
 "metadata": {
  "kernelspec": {
   "display_name": "Python 3",
   "language": "python",
   "name": "python3"
  },
  "language_info": {
   "name": "python",
   "version": "3.13.6"
  }
 },
 "nbformat": 4,
 "nbformat_minor": 5
}
